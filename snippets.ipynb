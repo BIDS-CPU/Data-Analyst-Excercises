{
  "nbformat": 4,
  "nbformat_minor": 0,
  "metadata": {
    "colab": {
      "provenance": [],
      "collapsed_sections": [],
      "authorship_tag": "ABX9TyPj+8xUlUSzoS1vs4ltUeb+",
      "include_colab_link": true
    },
    "kernelspec": {
      "name": "python3",
      "display_name": "Python 3"
    },
    "language_info": {
      "name": "python"
    }
  },
  "cells": [
    {
      "cell_type": "markdown",
      "metadata": {
        "id": "view-in-github",
        "colab_type": "text"
      },
      "source": [
        "<a href=\"https://colab.research.google.com/github/BIDS-CPU/data-science1/blob/main/snippets.ipynb\" target=\"_parent\"><img src=\"https://colab.research.google.com/assets/colab-badge.svg\" alt=\"Open In Colab\"/></a>"
      ]
    },
    {
      "cell_type": "code",
      "execution_count": null,
      "metadata": {
        "id": "MyyBGGXUKdlt"
      },
      "outputs": [],
      "source": [
        "\n",
        "#Creating a new column to calculate percentage difference between Upfront and Metered Price\n",
        "dataset['price_diff_perc'] = abs(100* (dataset['upfront_price']-dataset['metered_price'])/dataset['me"
      ]
    },
    {
      "cell_type": "code",
      "source": [],
      "metadata": {
        "id": "9Ay6GsThxXb8"
      },
      "execution_count": null,
      "outputs": []
    },
    {
      "cell_type": "code",
      "source": [],
      "metadata": {
        "id": "C0EJxsFmg1_i"
      },
      "execution_count": null,
      "outputs": []
    },
    {
      "cell_type": "code",
      "source": [],
      "metadata": {
        "id": "R7qhDXiL9_gh"
      },
      "execution_count": null,
      "outputs": []
    },
    {
      "cell_type": "code",
      "source": [],
      "metadata": {
        "id": "EYp-I1Zu9_nM"
      },
      "execution_count": null,
      "outputs": []
    },
    {
      "cell_type": "code",
      "source": [
        "#Creating Date Columns to be used later\n",
        "dataset['calc_created'] = pd.to_datetime(dataset['calc_created'])\n",
        "dataset['Order Date'] = dataset['calc_created'].dt.strftime(\"%Y-%m-%d\")\n",
        "dataset['Hour of Order'] = dataset['calc_created'].dt.strftime(\"%H\")"
      ],
      "metadata": {
        "id": "2lnQBy9iKn9V"
      },
      "execution_count": null,
      "outputs": []
    },
    {
      "cell_type": "code",
      "source": [
        "dataset['Device Manufacturer'] = dataset['Device Manufacturer'].str.split(' ').str[0]"
      ],
      "metadata": {
        "id": "CfPD1JKdKtdl"
      },
      "execution_count": null,
      "outputs": []
    },
    {
      "cell_type": "code",
      "source": [
        "dataset[['rider_os', 'rider_version']] = dataset['rider_app_version'].str.split('.', 1, expand=True)\n",
        "dataset.groupby(['rider_os'])['price_diff_perc'].agg(['count','mean']).reset_index()"
      ],
      "metadata": {
        "id": "ovuwurP8LFts"
      },
      "execution_count": null,
      "outputs": []
    },
    {
      "cell_type": "code",
      "source": [
        "X = prediction_dataset[['predicted_distance','predicted_duration','eu_indicator','gps_confidence','fraud_score']]\n",
        "Y = prediction_dataset[['metered_price']]\n",
        "\n",
        "X_train, X_test, Y_train, Y_test = train_test_split(X, Y, test_size=.1, random_state=1)\n",
        "\n",
        "from sklearn.tree import DecisionTreeRegressor\n",
        "DT_model = DecisionTreeRegressor(max_depth=10).fit(X_train,Y_train)\n",
        "DT_predict = DT_model.predict(X_test) #Predictions on Testing data"
      ],
      "metadata": {
        "id": "vpz1iYfNLR_d"
      },
      "execution_count": null,
      "outputs": []
    },
    {
      "cell_type": "code",
      "source": [
        "print(f\"Dark Query Percentage is {100 * round(f / b, 3)}\")\n",
        "Dark Query Percentage is 12.4"
      ],
      "metadata": {
        "id": "jIIoknoaL0bH"
      },
      "execution_count": null,
      "outputs": []
    },
    {
      "cell_type": "code",
      "source": [
        "x=np.array(data[\"Hours\"]).reshape(-1,1)\n",
        "y=np.array(data[\"Scores\"])"
      ],
      "metadata": {
        "id": "gRUrUh0zMB9Q"
      },
      "execution_count": null,
      "outputs": []
    },
    {
      "cell_type": "code",
      "source": [
        "from sklearn.model_selection import train_test_split"
      ],
      "metadata": {
        "id": "j-Dqo8cDMLqm"
      },
      "execution_count": null,
      "outputs": []
    },
    {
      "cell_type": "code",
      "source": [
        "x_train,x_test,y_train,y_test=train_test_split(x,y,test_size=0.2,random_state=0)"
      ],
      "metadata": {
        "id": "1I5_630aMQfP"
      },
      "execution_count": null,
      "outputs": []
    },
    {
      "cell_type": "code",
      "source": [
        "from sklearn.linear_model import LinearRegression"
      ],
      "metadata": {
        "id": "B97G1f6oMTQg"
      },
      "execution_count": null,
      "outputs": []
    },
    {
      "cell_type": "code",
      "source": [
        "score=LinearRegression()\n",
        "score.fit(x_train,y_train)"
      ],
      "metadata": {
        "id": "GTXpuiI0MVmA"
      },
      "execution_count": null,
      "outputs": []
    },
    {
      "cell_type": "code",
      "source": [
        "y_prediction=score.predict(x_test)\n",
        "df=pd.DataFrame({\"Actual\":y_test,\"Predicted\":y_prediction})\n",
        "print(df)\n"
      ],
      "metadata": {
        "id": "RvvIUDlRMZZ_"
      },
      "execution_count": null,
      "outputs": []
    },
    {
      "cell_type": "markdown",
      "source": [
        "y_prediction=score.predict(x_test)\n",
        "df=pd.DataFrame({\"Actual\":y_test,\"Predicted\":y_prediction})\n",
        "print(df)"
      ],
      "metadata": {
        "id": "H7ivc9_oMa0A"
      }
    },
    {
      "cell_type": "code",
      "source": [
        "hour=[[9.25]]\n",
        "p_score=score.predict(hour)\n",
        "print(\"If study hour is 9.25, then percentage of mark is\",p_score)"
      ],
      "metadata": {
        "id": "VwFGjypTMc_v"
      },
      "execution_count": null,
      "outputs": []
    },
    {
      "cell_type": "code",
      "source": [],
      "metadata": {
        "id": "pXfe0DOzPvmW"
      },
      "execution_count": null,
      "outputs": []
    },
    {
      "cell_type": "code",
      "source": [
        "accuracy=score.score(x_test,y_test)\n",
        "print(\"The accuracy of applied model is\",accuracy*100)"
      ],
      "metadata": {
        "id": "KU3EOiKOMmAv"
      },
      "execution_count": null,
      "outputs": []
    },
    {
      "cell_type": "code",
      "source": [
        "from sklearn.preprocessing import LabelEncoder\n",
        "le=LabelEncoder()\n",
        "df['Species']=le.fit_transform(df['Species'])\n",
        "df['Species'].value_counts()"
      ],
      "metadata": {
        "id": "Nt6tHVP6MmGI"
      },
      "execution_count": null,
      "outputs": []
    },
    {
      "cell_type": "code",
      "source": [
        "plt.scatter(df['PetalLengthCm'],df['PetalWidthCm'],c=df.Species.values)"
      ],
      "metadata": {
        "id": "gX9QJBMDPpzW"
      },
      "execution_count": null,
      "outputs": []
    },
    {
      "cell_type": "code",
      "source": [
        "from sklearn.cluster import KMeans\n",
        "wcss = []\n",
        "for i in range(1, 11):\n",
        "    kmeans = KMeans(n_clusters = i, init = 'k-means++', random_state = 42)\n",
        "    kmeans.fit(df)\n",
        "    # inertia method returns wcss for that model\n",
        "    wcss.append(kmeans.inertia_)\n",
        "    \n",
        "wcss"
      ],
      "metadata": {
        "id": "F4eu2pulPw_t"
      },
      "execution_count": null,
      "outputs": []
    },
    {
      "cell_type": "code",
      "source": [
        "kmeans = KMeans(n_clusters = 3, init = 'k-means++', random_state = 5)\n",
        "y_kmeans = kmeans.fit_predict(df)\n",
        "y_kmeans"
      ],
      "metadata": {
        "id": "aQDtc-8sP0Ie"
      },
      "execution_count": null,
      "outputs": []
    },
    {
      "cell_type": "code",
      "source": [
        "\n",
        "pd.DataFrame(df.isnull().sum(),columns=['Number of missing values'])"
      ],
      "metadata": {
        "id": "dN00HHDZP7TO"
      },
      "execution_count": null,
      "outputs": []
    },
    {
      "cell_type": "code",
      "source": [
        "\n",
        "dt['z-score'] = (dt.Sales-dt.Sales.mean())/dt.Sales.std()"
      ],
      "metadata": {
        "id": "mnzKPkT_QBUW"
      },
      "execution_count": null,
      "outputs": []
    },
    {
      "cell_type": "code",
      "source": [
        "=plt.figure(figsize=(12,7))\n",
        "sns.countplot(x=new_dt[\"City\"],order=(data['City'].value_counts().head(50)).index)\n",
        "plt.xticks(rotation = 90)\n",
        "plt.show()"
      ],
      "metadata": {
        "id": "buoppgPSQITe"
      },
      "execution_count": null,
      "outputs": []
    },
    {
      "cell_type": "code",
      "source": [
        "Category = 'Office Supplies','Furniture', 'Technology'\n",
        "fig1, ax1 = plt.subplots()\n",
        "explode=(0.1,0,0)#It\"explode\" the 1st slice\n",
        "ax1.pie(merge1[\"Overall_Discount\"],explode=explode, labels=Category, autopct='%1.1f%%',shadow=True,startangle=90)##explode must be a length of X\n",
        "ax1.axis('equal')#Equal aspect ratio ensures that pie is drawn as a circle.\n",
        "plt.show()"
      ],
      "metadata": {
        "id": "H7MpkXkyQOEv"
      },
      "execution_count": null,
      "outputs": []
    },
    {
      "cell_type": "code",
      "source": [
        " = []column_values\n",
        "counter = 0\n",
        "\n",
        "for i in drop_nan[\"Row Type\"]:\n",
        "    if \"first name\" in i:\n",
        "        counter += 1\n",
        "    column_values.append(counter)"
      ],
      "metadata": {
        "id": "6LQw4LT4Qkk_"
      },
      "execution_count": null,
      "outputs": []
    },
    {
      "cell_type": "code",
      "source": [
        "\n",
        "data_import[\"country\"].str.split(\",\", expand= True)"
      ],
      "metadata": {
        "id": "qWoQpVSeRl3J"
      },
      "execution_count": null,
      "outputs": []
    },
    {
      "cell_type": "code",
      "source": [
        "from datetime import datetime\n",
        "import warnings\n",
        "warnings.filterwarnings('ignore')"
      ],
      "metadata": {
        "id": "ksFiZO7TYHNl"
      },
      "execution_count": null,
      "outputs": []
    },
    {
      "cell_type": "code",
      "source": [
        "The COALESCE() function returns the first non-null value in a list."
      ],
      "metadata": {
        "id": "pNblEnocZQ2_"
      },
      "execution_count": null,
      "outputs": []
    },
    {
      "cell_type": "code",
      "source": [
        "# a custom function to do subtraction process on datetimes data type\n",
        "def get_subtraction_difference(df, column):\n",
        "    day = df[column].dt.day\n",
        "    month = df[column].dt.month\n",
        "    year = df[column].dt.year\n",
        "    return day, month, year "
      ],
      "metadata": {
        "id": "xfCaNtDOZRmO"
      },
      "execution_count": null,
      "outputs": []
    },
    {
      "cell_type": "code",
      "source": [
        "dataset = pd.read_csv('Salary_Data.csv')\n",
        "X = dataset.iloc[:, :-1].values\n",
        "y = dataset.iloc[:, -1].values"
      ],
      "metadata": {
        "id": "KaPlhciXcKLW"
      },
      "execution_count": null,
      "outputs": []
    },
    {
      "cell_type": "code",
      "source": [
        "total_review=''\n",
        "for i in range(len(message)):\n",
        "    rev=message['Review'][i]\n",
        "    rev=re.sub('[^a-zA-Z]',' ',rev)\n",
        "    rev=re.sub('\\n','',rev)\n",
        "    rev=rev.lower()\n",
        "    rev=re.sub('read more','',rev)\n",
        "    rev=re.sub('read less','',rev)\n",
        "    message['Review'][i]=rev\n",
        "    total_review=total_review+str(rev)"
      ],
      "metadata": {
        "id": "7uRCbOYxkmdU"
      },
      "execution_count": null,
      "outputs": []
    },
    {
      "cell_type": "code",
      "source": [
        "import pandas as pd\n",
        "import numpy as np\n",
        "\n",
        "import matplotlib.pyplot as plt\n",
        "import seaborn as sns\n",
        "import plotly.express as px\n",
        "\n",
        "%matplotlib inline\n",
        "\n",
        "from sklearn import preprocessing, svm\n",
        "from sklearn.model_selection import train_test_split\n",
        "from sklearn.linear_model import LinearRegression\n",
        "from sklearn.linear_model import LogisticRegression\n",
        "from sklearn.linear_model import SGDClassifier\n",
        "from sklearn.metrics import confusion_matrix\n",
        "from sklearn.metrics import classification_report\n",
        "from sklearn.metrics import accuracy_score\n",
        "from sklearn.utils import resample\n",
        "import statsmodels.api as sm\n",
        "\n",
        "import warnings\n",
        "warnings.filterwarnings('ignore')\n",
        "pd.options.mode.chained_assignment = None"
      ],
      "metadata": {
        "id": "oWN-wFB2rDNK"
      },
      "execution_count": null,
      "outputs": []
    },
    {
      "cell_type": "code",
      "source": [
        "df[['PAR1', 'SEX']].value_counts()"
      ],
      "metadata": {
        "id": "dTFmGYsxrgPg"
      },
      "execution_count": null,
      "outputs": []
    },
    {
      "cell_type": "code",
      "source": [
        "months_dict = {'I': '01',\n",
        "               'II': '02',\n",
        "               'III': '03',\n",
        "               'IV': '04',\n",
        "               'V': '05',\n",
        "               'VI': '06',\n",
        "               'VII': '07',\n",
        "               'VIII': '08',\n",
        "               'IX': '09',\n",
        "               'X': '10',\n",
        "               'XI': '11',\n",
        "               'XII': '12'}\n",
        "dataset['Miesiąc'] = dataset['Data'].map(lambda x: str(x)[:-3])\n",
        "dataset['Miesiąc_2'] = dataset.Miesiąc.map(months_dict)\n",
        "dataset['Rok'] = dataset['Data'].map(lambda x: str(x)[len(str(x)) - 2:])\n",
        "dataset['Data'] = '01-' + dataset['Miesiąc_2'] + '-20' + dataset['Rok']\n",
        "dataset['Data'] = pd.to_datetime(dataset['Data'], format='%d-%m-%Y').dt.date\n",
        "dataset.drop(['Miesiąc', 'Miesiąc_2', 'Rok'], axis=1, inplace=True)\n",
        "dataset.head(6)"
      ],
      "metadata": {
        "id": "YvHb0mN4sAT0"
      },
      "execution_count": null,
      "outputs": []
    },
    {
      "cell_type": "code",
      "source": [
        "import requests\n",
        "from bs4 import BeautifulSoup\n",
        "import csv\n",
        "\n",
        "\n",
        "result = requests.get(\"https://pmg.org.za/hansards/?filter%5Byear%5D=2019&filter%5Bhouse_id%5D=3\")\n",
        "src = result.content\n",
        "soup = BeautifulSoup(src, 'lxml')\n",
        "\n",
        "#find the div container which holds the element\n",
        "results = soup.find_all(\"div\",{\"class\":\"hansard-stub\"})\n",
        "\n",
        "# write to file\n",
        "filename = \"task1hansard1.csv\"\n",
        "f = open(filename,\"w\")\n",
        "\n",
        "headers= \"hansard_number, hansard_name, hansard_date\\n\"\n",
        "\n",
        "f.write(headers)\n",
        "\n",
        " # loop through  the webpage \n",
        "for result in results:   \n",
        "    \n",
        "    hansard_number = result.h4.a[\"href\"]\n",
        "    print(hansard_number) \n",
        "    \n",
        "    hansard_name = result.h4.a.text\n",
        "    print(hansard_name)\n",
        "    \n",
        "    hansard_date = result.div.text\n",
        "    print(hansard_date)\n",
        "\n",
        "    print()\n",
        "\n",
        "    f.write(hansard_number +\",\" + hansard_name + \",\" + hansard_date +\"\\n\")\n",
        "f.close()  "
      ],
      "metadata": {
        "id": "CD8ZB4XqIimd"
      },
      "execution_count": null,
      "outputs": []
    },
    {
      "cell_type": "code",
      "source": [
        "# get a collection of unique session_id\n",
        "unique_sessions = data.groupby([data['timestamp'].dt.date])['session_id'].unique()\n",
        "\n",
        "# build list of x and y labels\n",
        "x_unique_sessions = [k for k, v in unique_sessions.items()]\n",
        "y_unique_sessions = [len(v) for k, v in unique_sessions.items()]\n",
        "\n",
        "# represent visually\n",
        "plt.plot(x_unique_sessions, y_unique_sessions)\n",
        "plt.xlabel('\\nFigure 1: Number of unique daily sessions', fontsize=14)\n",
        "plt.show()"
      ],
      "metadata": {
        "id": "p3TicaJ9LBXh"
      },
      "execution_count": null,
      "outputs": []
    },
    {
      "cell_type": "code",
      "source": [
        "bar_top_selling_departments = ords_prods_customers_high_nout['department_name'].value_counts().plot.bar(color = sns.color_palette('hls', 21))\n",
        "plt.tight_layout()\n"
      ],
      "metadata": {
        "id": "tHUKjaOvkKm9"
      },
      "execution_count": null,
      "outputs": []
    },
    {
      "cell_type": "markdown",
      "source": [
        "![image.png](data:image/png;base64,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)"
      ],
      "metadata": {
        "id": "15uru92IkUQi"
      }
    },
    {
      "cell_type": "code",
      "source": [
        "department_income = pd.crosstab(ords_prods_customers_Top10dep['department_name'], ords_prods_customers_Top10dep['income_range'], dropna = False)"
      ],
      "metadata": {
        "id": "yBNMMh9Zkk5S"
      },
      "execution_count": null,
      "outputs": []
    },
    {
      "cell_type": "code",
      "source": [
        "bar_department_income = department_income.plot.bar(stacked = True, color = sns.color_palette('hls', 7))\n",
        "plt.legend(title = 'income_range',loc='center left', bbox_to_anchor=(1, 0.5))\n",
        "plt.tight_layout()"
      ],
      "metadata": {
        "id": "NND6z5vylI-m"
      },
      "execution_count": null,
      "outputs": []
    },
    {
      "cell_type": "code",
      "source": [],
      "metadata": {
        "id": "BFxge_BOpPWR"
      },
      "execution_count": null,
      "outputs": []
    },
    {
      "cell_type": "markdown",
      "source": [
        "\n",
        "\n",
        "\n",
        "\n",
        "\n",
        "\n",
        "![image.png](data:image/png;base64,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)"
      ],
      "metadata": {
        "id": "8ySymLjFlK90"
      }
    },
    {
      "cell_type": "code",
      "source": [
        "\n",
        "df_dinner_partie = df_prods.loc[df_prods['department_id'].isin([5, 20, 7, 12])]"
      ],
      "metadata": {
        "id": "r9MIzcTwpP56"
      },
      "execution_count": null,
      "outputs": []
    },
    {
      "cell_type": "code",
      "source": [
        "def price_label(row):\n",
        "\n",
        "  if row['prices'] <= 5:\n",
        "    return 'Low-range product'\n",
        "  elif (row['prices'] > 5) and (row['prices'] <= 15):\n",
        "    return 'Mid-range product'\n",
        "  elif row['prices'] > 15:\n",
        "    return 'High range'\n",
        "  else: return 'Not enough data'\n",
        "    "
      ],
      "metadata": {
        "id": "CPoI2oZ0s8BG"
      },
      "execution_count": null,
      "outputs": []
    },
    {
      "cell_type": "code",
      "source": [
        "df.loc[df['prices'] > 15, 'price_range_loc'] = 'High-range product'"
      ],
      "metadata": {
        "id": "pT5d_EwrtFs1"
      },
      "execution_count": null,
      "outputs": []
    },
    {
      "cell_type": "code",
      "source": [
        "df.loc[(df['prices'] <= 15) & (df['prices'] > 5), 'price_range_loc'] = 'Mid-range product' "
      ],
      "metadata": {
        "id": "93rCWT_HtJH2"
      },
      "execution_count": null,
      "outputs": []
    },
    {
      "cell_type": "code",
      "source": [
        "#Extract weight out of \"PROD_Name\" and make Extract weight as a new column\n",
        "td['PACK_SIZE'] = td['PROD_NAME'].str.extract(\"(\\d+)\")"
      ],
      "metadata": {
        "id": "I-uY59nO8C0u"
      },
      "execution_count": null,
      "outputs": []
    },
    {
      "cell_type": "code",
      "source": [
        "#'PROD_NAME' text cleaning\n",
        "def clean_text(text):\n",
        "    text = re.sub('[&/]', ' ', text) # remove special characters '&' and '/'\n",
        "    text = re.sub('\\d\\w*', ' ', text) # remove product weights\n",
        "    return text\n",
        "\n",
        "# Apply text cleaning function to PROD_NAME column\n",
        "td['PROD_NAME'] = td['PROD_NAME'].apply(clean_text)"
      ],
      "metadata": {
        "id": "mc5KdkB98Jw8"
      },
      "execution_count": null,
      "outputs": []
    },
    {
      "cell_type": "code",
      "source": [
        "# Drop rows with salsa word in PROD_NAME (solution draft said the data has salsa word in it)\n",
        "\n",
        "\n",
        "td[td[\"PROD_NAME\"].str.contains(\"salsa\")==False] "
      ],
      "metadata": {
        "id": "C0-bc_J58NfD"
      },
      "execution_count": null,
      "outputs": []
    },
    {
      "cell_type": "code",
      "source": [
        "# create brands use the first word in PROD_NAME to work out the brand name\n",
        "#create a new column under 'transaction data' dataset called 'Brand''\n",
        "part = td['PROD_NAME'].str.partition()\n",
        "td['BRAND'] = part[0]\n",
        "td.head()"
      ],
      "metadata": {
        "id": "7GaMz3Pf8Nkn"
      },
      "execution_count": null,
      "outputs": []
    },
    {
      "cell_type": "code",
      "source": [
        "sns.countplot(y = cd['LIFESTAGE'], order = cd['LIFESTAGE'].value_counts().index)"
      ],
      "metadata": {
        "id": "sKCM7TJL8xct"
      },
      "execution_count": null,
      "outputs": []
    },
    {
      "cell_type": "markdown",
      "source": [
        "![image.png](data:image/png;base64,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)"
      ],
      "metadata": {
        "id": "Q_pSIlFn80Rt"
      }
    },
    {
      "cell_type": "code",
      "source": [
        "combine_data = pd.merge(td, cd)"
      ],
      "metadata": {
        "id": "qUNPQXCW85IG"
      },
      "execution_count": null,
      "outputs": []
    },
    {
      "cell_type": "code",
      "source": [
        "#visualize\n",
        "salesPlot = pd.DataFrame(combine_data.groupby(['LIFESTAGE', 'PREMIUM_CUSTOMER']).TOT_SALES.sum())\n",
        "salesPlot.unstack().plot(kind = 'bar', stacked = True, figsize = (12, 7), title = 'Total Sales by Customer Segment')\n",
        "plt.ylabel('Total Sales')\n",
        "plt.legend(['Budget', 'Mainstream', 'Premium'], loc = 2)"
      ],
      "metadata": {
        "id": "iQuflrfx9CGA"
      },
      "execution_count": null,
      "outputs": []
    },
    {
      "cell_type": "markdown",
      "source": [
        "![image.png](data:image/png;base64,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)"
      ],
      "metadata": {
        "id": "j3UFxHNH9E1N"
      }
    },
    {
      "cell_type": "code",
      "source": [
        "visits.info(memory_usage='deep')"
      ],
      "metadata": {
        "id": "gnY8TlDJ9VMG"
      },
      "execution_count": null,
      "outputs": []
    },
    {
      "cell_type": "code",
      "source": [
        "visits['start ts']=pd.to_datetime(visits['start ts'])\n",
        "visits['end ts']=pd.to_datetime(visits['end ts'])"
      ],
      "metadata": {
        "id": "hD6_XpiI9col"
      },
      "execution_count": null,
      "outputs": []
    },
    {
      "cell_type": "code",
      "source": [
        "visits['session_year']=visits['start ts'].dt.year\n",
        "visits['session_month']=visits['start ts'].dt.month\n",
        "visits['session_week']=visits['start ts'].dt.week\n",
        "visits['session_date']=visits['start ts'].dt.date"
      ],
      "metadata": {
        "id": "AWdVW2YF9hE2"
      },
      "execution_count": null,
      "outputs": []
    },
    {
      "cell_type": "code",
      "source": [
        "user_activity['activity_week'] = pd.to_datetime(user_activity['activity_date'], unit='d') - pd.to_timedelta(user_activity['activity_date'].dt.dayofweek, unit='d')\n"
      ],
      "metadata": {
        "id": "eGrnATKR9vhm"
      },
      "execution_count": null,
      "outputs": []
    },
    {
      "cell_type": "code",
      "source": [
        "user_activity['cohort_lifetime'] = ((user_activity['activity_date'] - user_activity['first_activity_date']) / np.timedelta64(1,'M')).astype(int)\n"
      ],
      "metadata": {
        "id": "u4sad2nk94EH"
      },
      "execution_count": null,
      "outputs": []
    },
    {
      "cell_type": "code",
      "source": [
        "report['age'] = (report['order_month'] - report['first_order_month']) / np.timedelta64(1, 'M')"
      ],
      "metadata": {
        "id": "Z6IodTY5-Ol8"
      },
      "execution_count": null,
      "outputs": []
    },
    {
      "cell_type": "code",
      "source": [
        "Importing Data \n",
        "Any kind of data analysis starts with getting hold of some data. Pandas gives you plenty of options for getting data into your Python workbook:\n",
        "\n",
        "Python\n",
        "pd.read_csv(filename) # From a CSV file\n",
        "pd.read_table(filename) # From a delimited text file (like TSV)\n",
        "pd.read_excel(filename) # From an Excel file\n",
        "pd.read_sql(query, connection_object) # Reads from a SQL table/database\n",
        "pd.read_json(json_string) # Reads from a JSON formatted string, URL or file.\n",
        "pd.read_html(url) # Parses an html URL, string or file and extracts tables to a list of dataframes\n",
        "pd.read_clipboard() # Takes the contents of your clipboard and passes it to read_table()\n",
        "pd.DataFrame(dict) # From a dict, keys for columns names, values for data as lists"
      ],
      "metadata": {
        "id": "Oo_zGFr2BlCh"
      },
      "execution_count": null,
      "outputs": []
    },
    {
      "cell_type": "code",
      "source": [
        "Exploring Data \n",
        "Once you have imported your data into a Pandas dataframe, you can use these methods to get a sense of what the data looks like:\n",
        "\n",
        "Python\n",
        "df.shape() # Prints number of rows and columns in dataframe\n",
        "df.head(n) # Prints first n rows of the DataFrame\n",
        "df.tail(n) # Prints last n rows of the DataFrame\n",
        "df.info() # Index, Datatype and Memory information\n",
        "df.describe() # Summary statistics for numerical columns\n",
        "s.value_counts(dropna=False) # Views unique values and counts\n",
        "df.apply(pd.Series.value_counts) # Unique values and counts for all columns\n",
        "df.describe() # Summary statistics for numerical columns\n",
        "df.mean() # Returns the mean of all columns\n",
        "df.corr() # Returns the correlation between columns in a DataFrame\n",
        "df.count() # Returns the number of non-null values in each DataFrame column\n",
        "df.max() # Returns the highest value in each column\n",
        "df.min() # Returns the lowest value in each column\n",
        "df.median() # Returns the median of each column\n",
        "df.std() # Returns the standard deviation of each column"
      ],
      "metadata": {
        "id": "jpOI_Hm7BlHW"
      },
      "execution_count": null,
      "outputs": []
    },
    {
      "cell_type": "code",
      "source": [
        "\n",
        "Selecting\n",
        "Often, you might need to select a single element or a certain subset of the data to inspect it or perform further analysis. These methods will come in handy:\n",
        "\n",
        "Python\n",
        "df[col] # Returns column with label col as Series\n",
        "df[[col1, col2]] # Returns Columns as a new DataFrame\n",
        "s.iloc[0] # Selection by position (selects first element)\n",
        "s.loc[0] # Selection by index (selects element at index 0)\n",
        "df.iloc[0,:] # First row\n",
        "df.iloc[0,0] # First element of first column"
      ],
      "metadata": {
        "id": "FUv6xb-zByiB"
      },
      "execution_count": null,
      "outputs": []
    },
    {
      "cell_type": "code",
      "source": [
        "Data Cleaning\n",
        "Python\n",
        "df.columns = ['a','b','c'] # Renames columns\n",
        "pd.isnull() # Checks for null Values, Returns Boolean Array\n",
        "pd.notnull() # Opposite of s.isnull()\n",
        "df.dropna() # Drops all rows that contain null values\n",
        "df.dropna(axis=1) # Drops all columns that contain null values\n",
        "df.dropna(axis=1,thresh=n) # Drops all rows have have less than n non null values\n",
        "df.fillna(x) # Replaces all null values with x\n",
        "s.fillna(s.mean()) # Replaces all null values with the mean (mean can be replaced with almost any function from the statistics section)\n",
        "s.astype(float) # Converts the datatype of the series to float\n",
        "s.replace(1,'one') # Replaces all values equal to 1 with 'one'\n",
        "s.replace([1,3],['one','three']) # Replaces all 1 with 'one' and 3 with 'three'\n",
        "df.rename(columns=lambda x: x + 1) # Mass renaming of columns\n",
        "df.rename(columns={'old_name': 'new_ name'}) # Selective renaming\n",
        "df.set_index('column_one') # Changes the index\n",
        "df.rename(index=lambda x: x + 1) # Mass renaming of index"
      ],
      "metadata": {
        "id": "0Nsrwv0EBlKV"
      },
      "execution_count": null,
      "outputs": []
    },
    {
      "cell_type": "code",
      "source": [
        "Filter, Sort and Group By\n",
        "Methods for filtering, sorting and grouping your data:\n",
        "\n",
        "Python\n",
        "df[df[col] > 0.5] # Rows where the col column is greater than 0.5\n",
        "df[(df[col] > 0.5) & (df[col] < 0.7)] # Rows where 0.5 < col < 0.7\n",
        "df.sort_values(col1) # Sorts values by col1 in ascending order\n",
        "df.sort_values(col2,ascending=False) # Sorts values by col2 in descending order\n",
        "df.sort_values([col1,col2], ascending=[True,False]) # Sorts values by col1 in ascending order then col2 in descending order\n",
        "df.groupby(col) # Returns a groupby object for values from one column\n",
        "df.groupby([col1,col2]) # Returns a groupby object values from multiple columns\n",
        "df.groupby(col1)[col2].mean() # Returns the mean of the values in col2, grouped by the values in col1 (mean can be replaced with almost any function from the statistics section)\n",
        "df.pivot_table(index=col1, values= col2,col3], aggfunc=mean) # Creates a pivot table that groups by col1 and calculates the mean of col2 and col3\n",
        "df.groupby(col1).agg(np.mean) # Finds the average across all columns for every unique column 1 group\n",
        "df.apply(np.mean) # Applies a function across each column\n",
        "df.apply(np.max, axis=1) # Applies a function across each row"
      ],
      "metadata": {
        "id": "nNkUlSekBlNH"
      },
      "execution_count": null,
      "outputs": []
    },
    {
      "cell_type": "code",
      "source": [
        "Joining and Combining\n",
        "Methods for combining two dataframes:\n",
        "\n",
        "Python\n",
        "df1.append(df2) # Adds the rows in df1 to the end of df2 (columns should be identical)\n",
        "pd.concat([df1, df2],axis=1) # Adds the columns in df1 to the end of df2 (rows should be identical)\n",
        "df1.join(df2,on=col1,how='inner') # SQL-style joins the columns in df1 with the columns on df2 "
      ],
      "metadata": {
        "id": "K0haMPgDB_8C"
      },
      "execution_count": null,
      "outputs": []
    },
    {
      "cell_type": "code",
      "source": [
        "Writing Data\n",
        "And finally, when you have produced results with your analysis, there are several ways you can export your data:\n",
        "\n",
        "Python\n",
        "df.to_csv(filename) # Writes to a CSV file\n",
        "df.to_excel(filename) # Writes to an Excel file\n",
        "df.to_sql(table_name, connection_object) # Writes to a SQL table\n",
        "df.to_json(filename) # Writes to a file in JSON format\n",
        "df.to_html(filename) # Saves as an HTML table\n",
        "df.to_clipboard() # Writes to the clipboard"
      ],
      "metadata": {
        "id": "o90II8YgCDGy"
      },
      "execution_count": null,
      "outputs": []
    },
    {
      "cell_type": "code",
      "source": [
        "Machine Learning\n",
        "The Scikit-Learn library contains useful methods for training and applying machine learning models. Our Scikit-Learn tutorial provides more context for the code below.\n",
        "\n",
        "For a complete list of the Supervised Learning, Unsupervised Learning, and Dataset Transformation, and Model Evaluation modules in Scikit-Learn, please refer to its user guide.\n",
        "\n",
        "Python\n",
        "# 2. Import libraries and modules\n",
        "import numpy as np\n",
        "import pandas as pd\n",
        " \n",
        "from sklearn.model_selection import train_test_split\n",
        "from sklearn import preprocessing\n",
        "from sklearn.ensemble import RandomForestRegressor\n",
        "from sklearn.pipeline import make_pipeline\n",
        "from sklearn.model_selection import GridSearchCV\n",
        "from sklearn.metrics import mean_squared_error, r2_score\n",
        "import joblib \n",
        " \n",
        "# 3. Load red wine data.\n",
        "dataset_url = 'https://archive.ics.uci.edu/ml/machine-learning-databases/wine-quality/winequality-red.csv'\n",
        "data = pd.read_csv(dataset_url, sep=';')\n",
        " \n",
        "# 4. Split data into training and test sets\n",
        "y = data.quality\n",
        "X = data.drop('quality', axis=1)\n",
        "X_train, X_test, y_train, y_test = train_test_split(X, y, \n",
        "                                                    test_size=0.2, \n",
        "                                                    random_state=123, \n",
        "                                                    stratify=y)\n",
        " \n",
        "# 5. Declare data preprocessing steps\n",
        "pipeline = make_pipeline(preprocessing.StandardScaler(),\n",
        "                         RandomForestRegressor(n_estimators=100,\n",
        "                                               random_state=123))\n",
        " \n",
        "# 6. Declare hyperparameters to tune\n",
        "hyperparameters = { 'randomforestregressor__max_features' : ['auto', 'sqrt', 'log2'],\n",
        "                  'randomforestregressor__max_depth': [None, 5, 3, 1]}\n",
        " \n",
        "# 7. Tune model using cross-validation pipeline\n",
        "clf = GridSearchCV(pipeline, hyperparameters, cv=10)\n",
        " \n",
        "clf.fit(X_train, y_train)\n",
        " \n",
        "# 8. Refit on the entire training set\n",
        "# No additional code needed if clf.refit == True (default is True)\n",
        " \n",
        "# 9. Evaluate model pipeline on test data\n",
        "pred = clf.predict(X_test)\n",
        "print( r2_score(y_test, pred) )\n",
        "print( mean_squared_error(y_test, pred) )\n",
        " \n",
        "# 10. Save model for future use\n",
        "joblib.dump(clf, 'rf_regressor.pkl')\n",
        "# To load: clf2 = joblib.load('rf_regressor.pkl')"
      ],
      "metadata": {
        "id": "lYmTRrllCIUa"
      },
      "execution_count": null,
      "outputs": []
    },
    {
      "cell_type": "code",
      "source": [
        "Creating the Time Stamps and adding to the data frame to make it a Time Series Data\n",
        "date = pd.date_range(start='1/1/1980', end='8/1/1995', freq='M')\n",
        "date"
      ],
      "metadata": {
        "id": "MXtcnfgjDE7q"
      },
      "execution_count": null,
      "outputs": []
    },
    {
      "cell_type": "code",
      "source": [
        "# Discount Rate to Integer\n",
        "\n",
        "# remove % \n",
        "data['discount_rate_clear'] = data['discount_rate'].str.replace(r'%', '')\n"
      ],
      "metadata": {
        "id": "ICcY41T9EwdW"
      },
      "execution_count": null,
      "outputs": []
    },
    {
      "cell_type": "code",
      "source": [
        "import re\n",
        "final = []\n",
        "for a in data['discounted_price'] : \n",
        "   b = re.sub('\\.(?=.*\\.)', '', str(a))\n",
        "   final.append(b)\n",
        "print(final)"
      ],
      "metadata": {
        "id": "8KxFv_WhFBfP"
      },
      "execution_count": null,
      "outputs": []
    },
    {
      "cell_type": "code",
      "source": [
        "from bs4 import BeautifulSoup as bs\n",
        "import requests\n",
        "import pandas as pd"
      ],
      "metadata": {
        "id": "TbvGf3brXpnf"
      },
      "execution_count": null,
      "outputs": []
    },
    {
      "cell_type": "code",
      "source": [
        "# Scrape all pages\n",
        "# collect job information from each page\n",
        "job_titles = []\n",
        "companies = []\n",
        "salaries = []\n",
        "locations = []\n",
        "page = 1\n",
        "count = 0\n",
        "\n",
        "while page != 247:\n",
        "\n",
        "    # job titles\n",
        "    url = f\"https://www.reed.co.uk/jobs/data-analyst-jobs?pageno={page}\"\n",
        "    html = requests.get(url)\n",
        "    webpage = bs(html.content, \"html.parser\")\n",
        "    for a in webpage.find_all(\"h3\", class_ = \"job-result-heading__title\"):\n",
        "        job_titles.append(a.get_text(strip = True))\n",
        "\n",
        "    # companies\n",
        "    for a in webpage.find_all(\"a\", class_ = \"gtmJobListingPostedBy\"):\n",
        "        companies.append(a.get_text(strip = True))\n",
        "\n",
        "    # salaries\n",
        "    for a in webpage.find_all(\"li\", class_ = \"job-metadata__item--salary\"):\n",
        "        salaries.append(a.get_text(strip = True))\n",
        "\n",
        "    # locations\n",
        "    location_list = webpage.find_all(\"li\", class_ = \"job-metadata__item--location\")\n",
        "    for li in location_list:\n",
        "        remove_child = li.findChild().clear()\n",
        "        locations.append(li.get_text(strip = True))\n",
        "    page = page + 1"
      ],
      "metadata": {
        "id": "4SB1jBibYA1N"
      },
      "execution_count": null,
      "outputs": []
    },
    {
      "cell_type": "code",
      "source": [
        "# Put collected data into a table\n",
        "job_data = pd.DataFrame(\n",
        "    {\n",
        "        'Job': job_titles,\n",
        "        'Company': companies,\n",
        "        'Salary': salaries,\n",
        "        'Location': locations\n",
        "    }\n",
        ")"
      ],
      "metadata": {
        "id": "-jGBVw0pYIn3"
      },
      "execution_count": null,
      "outputs": []
    },
    {
      "cell_type": "code",
      "source": [
        "# convert data to csv\n",
        "\n",
        "job_data.to_csv('job_data.csv', index = False)"
      ],
      "metadata": {
        "id": "Ln4tSx62YKtP"
      },
      "execution_count": null,
      "outputs": []
    },
    {
      "cell_type": "code",
      "source": [
        "import pandas as pd\n",
        "pd.set_option('display.max_columns', 0)\n",
        "pd.options.display.float_format = '{:.2f}'.format\n",
        "from pandas_profiling import ProfileReport\n",
        "import numpy as np\n",
        "import matplotlib.pyplot as plt\n",
        "%matplotlib inline\n",
        "import seaborn as sns\n",
        "from datetime import datetime as dt"
      ],
      "metadata": {
        "id": "iwAN9vczZ3H7"
      },
      "execution_count": null,
      "outputs": []
    },
    {
      "cell_type": "code",
      "source": [
        "matches['toss_win_game_win'] = np.where((matches.toss_winner == matches.winner),'Yes','No')"
      ],
      "metadata": {
        "id": "ztek_MyzibGy"
      },
      "execution_count": null,
      "outputs": []
    },
    {
      "cell_type": "code",
      "source": [],
      "metadata": {
        "id": "6jweR05gxJTj"
      },
      "execution_count": null,
      "outputs": []
    },
    {
      "cell_type": "code",
      "source": [
        "#creating a dataframe with season and winner columns\n",
        "winning_teams = matches[['season','winner']]\n",
        "#dictionaries to get winners to each season\n",
        "winners_team = {}\n",
        "for i in sorted(winning_teams.season.unique()):\n",
        "    winners_team[i] = winning_teams[winning_teams.season == i]['winner'].tail(1).values[0]\n",
        "    \n",
        "winners_of_IPL = pd.Series(winners_team)\n",
        "winners_of_IPL = pd.DataFrame(winners_of_IPL, columns=['team'])"
      ],
      "metadata": {
        "id": "gbAtWp_gihAn"
      },
      "execution_count": null,
      "outputs": []
    },
    {
      "cell_type": "code",
      "source": [
        "d1.nlargest(10,'average_trips')"
      ],
      "metadata": {
        "id": "rctD3IS28GVk"
      },
      "execution_count": null,
      "outputs": []
    },
    {
      "cell_type": "code",
      "source": [
        "Matches we have id and in deliveries we have match_id we can merge using this two\n",
        "#Merge here, it will make easier.\n",
        "merge=deliveries.merge(matches, left_on=\"match_id\",right_on=\"id\")"
      ],
      "metadata": {
        "id": "ajL5LVFT-BDL"
      },
      "execution_count": null,
      "outputs": []
    },
    {
      "cell_type": "code",
      "source": [
        "plt.subplots(figsize=(9,6))\n",
        "run_filter=merge.groupby(\"batsman\")\n",
        "max_player_runs=run_filter['batsman_runs'].sum().sort_values(ascending=False)[:15].plot.bar(width=0.8,color=sb.color_palette('Spectral',20))"
      ],
      "metadata": {
        "id": "pF59jFcR-wUA"
      },
      "execution_count": null,
      "outputs": []
    },
    {
      "cell_type": "code",
      "source": [
        "Top 10 Batsmen runs score by season.\n",
        "most_runs_season=merge.groupby([\"season\",\"batsman\"])[\"batsman_runs\"].sum().sort_values(ascending=False).head(10).reset_index().drop_duplicates(keep=\"first\")\n",
        "most_runs_season.head(10)"
      ],
      "metadata": {
        "id": "TFO6S43d-z7A"
      },
      "execution_count": null,
      "outputs": []
    },
    {
      "cell_type": "code",
      "source": [
        "Batsmen runs score by years (years in decreasing order).\n",
        "score_by_years=merge.groupby([\"season\",\"batsman\"])[\"batsman_runs\"].sum().sort_values(ascending=False).reset_index().drop_duplicates(subset=\"season\",keep=\"first\").sort_values(\"season\",ascending=False)\n",
        "score_by_years"
      ],
      "metadata": {
        "id": "h5R-7x8i_Cpg"
      },
      "execution_count": null,
      "outputs": []
    },
    {
      "cell_type": "code",
      "source": [
        "\n",
        "\n",
        "Top ten players who score most sixes by season.\n",
        "six_by_season=sixes.groupby([\"season\",\"batsman\"])[\"batsman_runs\"].count().sort_values(ascending=False).head(10).reset_index()"
      ],
      "metadata": {
        "id": "O9BLsxO-_YHm"
      },
      "execution_count": null,
      "outputs": []
    },
    {
      "cell_type": "code",
      "source": [
        "date_format            = \"%Y-%m-%d\" \n",
        "date_format_h          = \"%Y-%m-%dT%H:%M:%S\" \n",
        "df['start_time_dt']    = pd.to_datetime(df['start_time'].str.split('T',expand=True)[0],format=date_format) # data for dynamic graphs\n",
        "df['end_time_dt']      = pd.to_datetime(df['end_time'].str.split('T',expand=True)[0],format=date_format) # data for dynamic graphs\n",
        "df['start_time_dt_h']  = pd.to_datetime(df['start_time'].str.split('.',expand=True)[0].str.split('Z',expand=True)[0],format=date_format_h) # data to culculate conversation period\n",
        "df['end_time_dt_h']    = pd.to_datetime(df['end_time'].str.split('.',expand=True)[0].str.split('Z',expand=True)[0],format=date_format_h) # data to culculate conversation period\n",
        "df['period']           = (df['end_time_dt_h'] - df['start_time_dt_h']).astype('timedelta64[m]') # conversation period\n",
        "df['has_not_understood_messages'] = df['has_not_understood_messages'].astype(int) # transform to int for testing\n",
        "df['is_logged_in']     = df['is_logged_in'].fillna(0).astype(int) # transform to int for testing\n",
        "df['success']          = np.where(df['resolution'] == 'botHandled', 1, 0) # syntatic field to caclulate target kpi \n",
        "df['resolution_none']  = np.where(df['resolution'] == 'none', 1, 0) # for categorical field analysis\n",
        "df['resolution_agent'] = np.where(df['resolution'] == 'agent', 1, 0) # for categorical field analysis\n",
        "df['resolution_failedEscalation'] = np.where(df['resolution'] == 'failedEscalation', 1, 0) # for categorical field analysis\n",
        "df['period_log']       = (df['period']+1).transform(np.log) # for normal distribution \n",
        "df['bot_messages_log'] = (df['bot_messages']+1).transform(np.log) # for normal distribution \n",
        "df['visitor_messages_log'] = (df['visitor_messages']+1).transform(np.log) # for normal distribution \n",
        "bins   = [0, 5, 10, 15, 20, 25, 30]\n",
        "labels = [0, 5, 10, 15, 20, 25]\n",
        "df['bot_messages_binned'] = pd.cut(df['bot_messages'], bins=bins, labels=labels) # for convertion research\n",
        "df_model = df[['success','visitor_messages_log','has_not_understood_messages','is_logged_in']]  # limited df for testing aims i"
      ],
      "metadata": {
        "id": "pOtVfoMxApXV"
      },
      "execution_count": null,
      "outputs": []
    },
    {
      "cell_type": "code",
      "source": [
        "import pandas as pd # for working with dataframes\n",
        "from datetime import datetime # to manage time series\n",
        "import plotly.express as px # easy pretty visualizations\n",
        "import numpy as np # for data transformations\n",
        "import scipy.stats as stats #  for stats testing \n",
        "from scipy.stats import ttest_ind\n",
        "import matplotlib.pyplot as plt # one more visualization pack\n",
        "import plotly.graph_objects as go # one more visualization pack\n",
        "from plotly.subplots import make_subplots # one more visualization pack\n",
        "import plotly.offline as pyo"
      ],
      "metadata": {
        "id": "4iJnfb-Ug3RY"
      },
      "execution_count": null,
      "outputs": []
    },
    {
      "cell_type": "code",
      "source": [
        "date_format            = \"%Y-%m-%d\" \n",
        "date_format_h          = \"%Y-%m-%dT%H:%M:%S\" \n",
        "df['start_time_dt']    = pd.to_datetime(df['start_time'].str.split('T',expand=True)[0],format=date_format) # data for dynamic graphs\n",
        "df['end_time_dt']      = pd.to_datetime(df['end_time'].str.split('T',expand=True)[0],format=date_format) # data for dynamic graphs\n",
        "df['start_time_dt_h']  = pd.to_datetime(df['start_time'].str.split('.',expand=True)[0].str.split('Z',expand=True)[0],format=date_format_h) # data to culculate conversation period\n",
        "df['end_time_dt_h']    = pd.to_datetime(df['end_time'].str.split('.',expand=True)[0].str.split('Z',expand=True)[0],format=date_format_h) # data to culculate conversation period\n",
        "df['period']           = (df['end_time_dt_h'] - df['start_time_dt_h']).astype('timedelta64[m]') # conversation period\n",
        "df['has_not_understood_messages'] = df['has_not_understood_messages'].astype(int) # transform to int for testing\n",
        "df['is_logged_in']     = df['is_logged_in'].fillna(0).astype(int) # transform to int for testing\n",
        "df['success']          = np.where(df['resolution'] == 'botHandled', 1, 0) # syntatic field to caclulate target kpi \n",
        "df['resolution_none']  = np.where(df['resolution'] == 'none', 1, 0) # for categorical field analysis\n",
        "df['resolution_agent'] = np.where(df['resolution'] == 'agent', 1, 0) # for categorical field analysis\n",
        "df['resolution_failedEscalation'] = np.where(df['resolution'] == 'failedEscalation', 1, 0) # for categorical field analysis\n",
        "df['period_log']       = (df['period']+1).transform(np.log) # for normal distribution \n",
        "df['bot_messages_log'] = (df['bot_messages']+1).transform(np.log) # for normal distribution \n",
        "df['visitor_messages_log'] = (df['visitor_messages']+1).transform(np.log) # for normal distribution \n",
        "bins   = [0, 5, 10, 15, 20, 25, 30]\n",
        "labels = [0, 5, 10, 15, 20, 25]\n",
        "df['bot_messages_binned'] = pd.cut(df['bot_messages'], bins=bins, labels=labels) # for convertion research\n",
        "df_model = df[['success','visitor_messages_log','has_not_understood_messages','is_logged_in']]  # limited df for testing aims "
      ],
      "metadata": {
        "id": "dWMx8-8Tg8Zg"
      },
      "execution_count": null,
      "outputs": []
    },
    {
      "cell_type": "code",
      "source": [
        "date_format_h                          = '%d-%m-%Y %H:%M:%S' #data format mask \n",
        "df_task['Date']                        = pd.to_datetime(df_task['Date'] , format=date_format_h)\n",
        "df_task['Customer - First Order Date'] = pd.to_datetime(df_task['Customer - First Order Date'] , format=date_format_h)\n",
        "df_task['GMV - per Product']  = df_task['GMV - per Product'].str.replace('€ ','').str.replace(',','.').astype(float)\n",
        "df_task['Revenue']            = df_task['Revenue'].str.replace('€ ','').str.replace(',','.').astype(float)\n",
        "df_task['Gross Profit']       = df_task['Gross Profit'].str.replace('€ ','').str.replace(',','.').astype(float)\n",
        "df_task['Cost - Advertising'] = df_task['Cost - Advertising'].str.replace(',','.').fillna('0').astype(float)\n",
        "df_task['Cost - Advertising'] = df_task['Cost - Advertising'].round(2)"
      ],
      "metadata": {
        "id": "-_vtnloPpVo4"
      },
      "execution_count": null,
      "outputs": []
    },
    {
      "cell_type": "code",
      "source": [
        "maxlen = max(list(map(lambda x: len(x.split(\"-\")) ,data['Salary Estimate'])))\n",
        "cols = [\"sal\"+str(x)   for x in range(maxlen)]      \n",
        "datalist = list(map(lambda x: x.split(\"-\"), data['Salary Estimate'])) \n",
        "newdf = pd.DataFrame(data=datalist, columns=cols)   # create dataframe of new columns\n",
        "newdf = pd.concat([data, newdf], axis=1)              # add it to original dataframe"
      ],
      "metadata": {
        "id": "YkEcsZUixZyg"
      },
      "execution_count": null,
      "outputs": []
    },
    {
      "cell_type": "code",
      "source": [
        "newdf['sal1']=newdf['sal1'].str.replace(r'\\D+', '').astype('int')\n",
        "newdf['sal1']=newdf['sal1']*1000"
      ],
      "metadata": {
        "id": "NnoXI3iyxc9w"
      },
      "execution_count": null,
      "outputs": []
    },
    {
      "cell_type": "code",
      "source": [
        "newdf['sal0'].loc[newdf['sal0']=='']='0k'\n",
        "newdf['sal0']=newdf['sal0'].str.replace(r'\\D+', '').astype('int')\n",
        "newdf['sal0']=newdf['sal0']*1000"
      ],
      "metadata": {
        "id": "1cuaxA2wxe-Y"
      },
      "execution_count": null,
      "outputs": []
    },
    {
      "cell_type": "code",
      "source": [
        "df['Month_Name'] = df['Month'].apply(lambda x: calendar.month_abbr[int(x)])\n",
        "df"
      ],
      "metadata": {
        "id": "f3E-8H3pzZEu"
      },
      "execution_count": null,
      "outputs": []
    },
    {
      "cell_type": "code",
      "source": [
        "age_bins = [0, 9, 14, 19, 24, 29, 34, 39, 99999]\n",
        "group_names = [\"<10\", \"10-14\", \"15-19\", \"20-24\", \"25-29\", \"30-34\", \"35-39\", \"40+\"]\n",
        "\n",
        "# slice the data using pd.cut and Categorize the existing players based on age_bins  \n",
        "purchase_data[\"Age Ranges\"] = pd.cut(purchase_data[\"Age\"],age_bins, labels=group_names)\n",
        "purchase_data"
      ],
      "metadata": {
        "id": "RMZEGUG2_QAT"
      },
      "execution_count": null,
      "outputs": []
    }
  ]
}