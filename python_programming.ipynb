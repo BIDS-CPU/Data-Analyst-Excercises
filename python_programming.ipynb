{
  "nbformat": 4,
  "nbformat_minor": 0,
  "metadata": {
    "colab": {
      "provenance": [],
      "authorship_tag": "ABX9TyMDeLWeJcom0OfYTU4Xjt+g",
      "include_colab_link": true
    },
    "kernelspec": {
      "name": "python3",
      "display_name": "Python 3"
    },
    "language_info": {
      "name": "python"
    }
  },
  "cells": [
    {
      "cell_type": "markdown",
      "metadata": {
        "id": "view-in-github",
        "colab_type": "text"
      },
      "source": [
        "<a href=\"https://colab.research.google.com/github/BIDS-CPU/Data-Analyst-Excercises/blob/main/python_programming.ipynb\" target=\"_parent\"><img src=\"https://colab.research.google.com/assets/colab-badge.svg\" alt=\"Open In Colab\"/></a>"
      ]
    },
    {
      "cell_type": "code",
      "execution_count": null,
      "metadata": {
        "colab": {
          "base_uri": "https://localhost:8080/"
        },
        "id": "PyW8Kvk1iRGF",
        "outputId": "72ce4834-16b9-4ec8-8be4-131902a89785"
      },
      "outputs": [
        {
          "name": "stdout",
          "output_type": "stream",
          "text": [
            "that eas really awesome never forget you are awesoe you need to make connections of neurons in pat=rtivular area\n"
          ]
        }
      ],
      "source": [
        "l=[i for i in input().split()]"
      ]
    },
    {
      "cell_type": "code",
      "source": [
        "d={}\n",
        "for i in l:\n",
        "  if i in d:\n",
        "    d[i]+=1\n",
        "  else:\n",
        "    d[i]=1\n",
        "c=[]\n",
        "n=int(input())\n",
        "for i in d:\n",
        "  if d[i]>n:\n",
        "    c.append(i)\n",
        "   "
      ],
      "metadata": {
        "colab": {
          "base_uri": "https://localhost:8080/"
        },
        "id": "zjAMlih-icOR",
        "outputId": "64b41e89-5c19-42d9-e9b1-f38d1171c765"
      },
      "execution_count": null,
      "outputs": [
        {
          "output_type": "error",
          "ename": "NameError",
          "evalue": "ignored",
          "traceback": [
            "\u001b[0;31m---------------------------------------------------------------------------\u001b[0m",
            "\u001b[0;31mNameError\u001b[0m                                 Traceback (most recent call last)",
            "\u001b[0;32m<ipython-input-1-dcfe2c692290>\u001b[0m in \u001b[0;36m<module>\u001b[0;34m\u001b[0m\n\u001b[1;32m      1\u001b[0m \u001b[0md\u001b[0m\u001b[0;34m=\u001b[0m\u001b[0;34m{\u001b[0m\u001b[0;34m}\u001b[0m\u001b[0;34m\u001b[0m\u001b[0;34m\u001b[0m\u001b[0m\n\u001b[0;32m----> 2\u001b[0;31m \u001b[0;32mfor\u001b[0m \u001b[0mi\u001b[0m \u001b[0;32min\u001b[0m \u001b[0ml\u001b[0m\u001b[0;34m:\u001b[0m\u001b[0;34m\u001b[0m\u001b[0;34m\u001b[0m\u001b[0m\n\u001b[0m\u001b[1;32m      3\u001b[0m   \u001b[0;32mif\u001b[0m \u001b[0mi\u001b[0m \u001b[0;32min\u001b[0m \u001b[0md\u001b[0m\u001b[0;34m:\u001b[0m\u001b[0;34m\u001b[0m\u001b[0;34m\u001b[0m\u001b[0m\n\u001b[1;32m      4\u001b[0m     \u001b[0md\u001b[0m\u001b[0;34m[\u001b[0m\u001b[0mi\u001b[0m\u001b[0;34m]\u001b[0m\u001b[0;34m+=\u001b[0m\u001b[0;36m1\u001b[0m\u001b[0;34m\u001b[0m\u001b[0;34m\u001b[0m\u001b[0m\n\u001b[1;32m      5\u001b[0m   \u001b[0;32melse\u001b[0m\u001b[0;34m:\u001b[0m\u001b[0;34m\u001b[0m\u001b[0;34m\u001b[0m\u001b[0m\n",
            "\u001b[0;31mNameError\u001b[0m: name 'l' is not defined"
          ]
        }
      ]
    },
    {
      "cell_type": "code",
      "source": [
        "c"
      ],
      "metadata": {
        "colab": {
          "base_uri": "https://localhost:8080/"
        },
        "id": "EdHJ-SCbjc_n",
        "outputId": "641c6a58-cf27-4669-f763-e37181351a78"
      },
      "execution_count": null,
      "outputs": [
        {
          "output_type": "execute_result",
          "data": {
            "text/plain": [
              "['you']"
            ]
          },
          "metadata": {},
          "execution_count": 7
        }
      ]
    },
    {
      "cell_type": "code",
      "source": [
        "s=input()\n",
        "a=[]\n",
        "n=[]\n",
        "for i in s:\n",
        "  if i.isalpha():\n",
        "    a.append(i)\n",
        "  else:\n",
        "    n.append(i)\n",
        "j=sorted(a)+sorted(n)\n",
        "\n",
        "k=''.join(j)\n",
        "k"
      ],
      "metadata": {
        "colab": {
          "base_uri": "https://localhost:8080/",
          "height": 53
        },
        "id": "bZtXSGPskKAY",
        "outputId": "40c74524-b615-4fcb-fc76-953ea11f059e"
      },
      "execution_count": null,
      "outputs": [
        {
          "name": "stdout",
          "output_type": "stream",
          "text": [
            "A5X4Z9V6\n"
          ]
        },
        {
          "output_type": "execute_result",
          "data": {
            "text/plain": [
              "'AVXZ4569'"
            ],
            "application/vnd.google.colaboratory.intrinsic+json": {
              "type": "string"
            }
          },
          "metadata": {},
          "execution_count": 25
        }
      ]
    },
    {
      "cell_type": "code",
      "source": [
        "n=50\n",
        "j=bin(n)\n",
        "k=j[2:]\n",
        "m=[]\n",
        "for i in k:\n",
        "  if (i=='0'):\n",
        "    m.append('1')\n",
        "  else:\n",
        "    m.append('0')\n",
        "\n",
        "print('1st',k)\n",
        "k2=''.join(m)\n",
        "k2\n",
        "\n",
        "\n"
      ],
      "metadata": {
        "colab": {
          "base_uri": "https://localhost:8080/",
          "height": 53
        },
        "id": "oBt1oCw-pJDD",
        "outputId": "01bdd48b-fc3e-4e81-c872-b5370480e914"
      },
      "execution_count": null,
      "outputs": [
        {
          "output_type": "stream",
          "name": "stdout",
          "text": [
            "1st 110010\n"
          ]
        },
        {
          "output_type": "execute_result",
          "data": {
            "text/plain": [
              "'001101'"
            ],
            "application/vnd.google.colaboratory.intrinsic+json": {
              "type": "string"
            }
          },
          "metadata": {},
          "execution_count": 9
        }
      ]
    },
    {
      "cell_type": "code",
      "source": [
        "m=int(k2,2)\n",
        "m"
      ],
      "metadata": {
        "colab": {
          "base_uri": "https://localhost:8080/"
        },
        "id": "r125HoI_qFl5",
        "outputId": "f69aec26-7fbd-42ec-961b-6ffa1730b209"
      },
      "execution_count": null,
      "outputs": [
        {
          "output_type": "execute_result",
          "data": {
            "text/plain": [
              "13"
            ]
          },
          "metadata": {},
          "execution_count": 10
        }
      ]
    },
    {
      "cell_type": "code",
      "source": [
        "l=[int(i) for i in input().split(',')]\n",
        "a=l[0]\n",
        "b=l[1]\n",
        "for i in range(0,len(l)):\n",
        "  for j in range(i+1,len(l)):\n",
        "    if (l[i]*l[j])>a*b:\n",
        "      a=l[i]\n",
        "      b=l[j]\n",
        "\n",
        "print((a,b))"
      ],
      "metadata": {
        "colab": {
          "base_uri": "https://localhost:8080/"
        },
        "id": "VhptgAndrw70",
        "outputId": "cf31aa2b-4fe7-4369-c950-e596bfe43ba5"
      },
      "execution_count": null,
      "outputs": [
        {
          "output_type": "stream",
          "name": "stdout",
          "text": [
            "1,2,3,4,5,6,7,8,9\n",
            "(8, 9)\n"
          ]
        }
      ]
    },
    {
      "cell_type": "code",
      "source": [
        "l.sort()\n",
        "l[-2:]"
      ],
      "metadata": {
        "colab": {
          "base_uri": "https://localhost:8080/"
        },
        "id": "rb42JKY7tcVb",
        "outputId": "2d250607-e59d-4cc6-841b-df98825a4beb"
      },
      "execution_count": null,
      "outputs": [
        {
          "output_type": "execute_result",
          "data": {
            "text/plain": [
              "[8, 9]"
            ]
          },
          "metadata": {},
          "execution_count": 18
        }
      ]
    },
    {
      "cell_type": "code",
      "source": [
        "#4 digit otp\n",
        "l=input()\n",
        "o=[]\n",
        "e=[]\n",
        "for i in range(1,len(l),2):\n",
        "  o.append(str(int(l[i])**2))\n",
        "k=''.join(o)\n",
        "k[0:4]"
      ],
      "metadata": {
        "id": "CnIArN9RxPK-",
        "colab": {
          "base_uri": "https://localhost:8080/",
          "height": 53
        },
        "outputId": "5c0bafb6-603b-44e7-d469-c609a112f00f"
      },
      "execution_count": null,
      "outputs": [
        {
          "name": "stdout",
          "output_type": "stream",
          "text": [
            "554345543\n"
          ]
        },
        {
          "output_type": "execute_result",
          "data": {
            "text/plain": [
              "'2592'"
            ],
            "application/vnd.google.colaboratory.intrinsic+json": {
              "type": "string"
            }
          },
          "metadata": {},
          "execution_count": 28
        }
      ]
    },
    {
      "cell_type": "code",
      "source": [
        "h=input().split(',')\n",
        "s=''\n",
        "for i in h:\n",
        "  m,n=i.split(':')\n",
        "  l=len(m)\n",
        "\n",
        "  max=0\n",
        "\n",
        "  for i in n:\n",
        "      if(int(i)<=l):\n",
        "          if(max<=int(i)):\n",
        "              max=int(i)\n",
        "  if(max==0):\n",
        "    s+='x'\n",
        "\n",
        "  else:\n",
        "    s+=m[max-1]\n",
        "\n",
        "s\n",
        "  \n",
        "\n"
      ],
      "metadata": {
        "colab": {
          "base_uri": "https://localhost:8080/",
          "height": 53
        },
        "id": "by7IFHoQ_yIN",
        "outputId": "69c0fb9e-9734-4ff0-85d6-ea9a28a92df2"
      },
      "execution_count": null,
      "outputs": [
        {
          "name": "stdout",
          "output_type": "stream",
          "text": [
            "abhishek:48488,yeah:7878\n"
          ]
        },
        {
          "output_type": "execute_result",
          "data": {
            "text/plain": [
              "'kx'"
            ],
            "application/vnd.google.colaboratory.intrinsic+json": {
              "type": "string"
            }
          },
          "metadata": {},
          "execution_count": 32
        }
      ]
    },
    {
      "cell_type": "code",
      "source": [
        "s=input()\n",
        "stack=[]\n",
        "c=0\n",
        "for i in s:\n",
        "  if(i=='(' or i=='{' or i=='['):\n",
        "    stack.append(i)\n",
        "    c+=1\n",
        "    continue\n",
        "  if(len(stack)==0):\n",
        "    print(c+1)\n",
        "  t=stack.pop()\n",
        "  if(t=='(' and i=='}'):\n",
        "    c+=1\n",
        "  elif(i=='}' and t=='{'):\n",
        "    c+=1\n",
        "  elif(t=='[' and i==']'):\n",
        "    c+=1\n",
        "  else:\n",
        "    print(c+1)\n",
        "\n",
        "if(len(stack)==0):\n",
        "  print(0)\n",
        "else:\n",
        "  print(c+1)\n",
        "\n",
        "\n",
        "\n"
      ],
      "metadata": {
        "colab": {
          "base_uri": "https://localhost:8080/"
        },
        "id": "-K1A6CBT_2Kk",
        "outputId": "22953142-02fe-4795-bb4a-8ee0b3082594"
      },
      "execution_count": null,
      "outputs": [
        {
          "output_type": "stream",
          "name": "stdout",
          "text": [
            "((())\n",
            "4\n",
            "4\n",
            "4\n"
          ]
        }
      ]
    },
    {
      "cell_type": "code",
      "source": [
        "import re\n",
        "l=input()\n",
        "s=re.findall(\"[a-zA-z]\",l)\n",
        "s.reverse()\n",
        "\n",
        "for i in range(len(l)):\n",
        "  if not(l[i].isalpha()):\n",
        "    s.insert(i,l[i])\n",
        "print(''.join(s))"
      ],
      "metadata": {
        "colab": {
          "base_uri": "https://localhost:8080/"
        },
        "id": "7oxHYoGGEURm",
        "outputId": "287f61c5-ce9c-46d6-c1d4-44d385f45630"
      },
      "execution_count": null,
      "outputs": [
        {
          "output_type": "stream",
          "name": "stdout",
          "text": [
            "jag@deesh\n",
            "hse@edgaj\n"
          ]
        }
      ]
    },
    {
      "cell_type": "code",
      "source": [
        "n=input().split(',')\n",
        "s=0\n",
        "s1=''\n",
        "for i in range(0,len(n)):\n",
        "\n",
        "  if (i<4 or i>7):\n",
        "    s+=int(n[i])\n",
        "  \n",
        "\n",
        "for i in range(4,7+1):\n",
        "    s1+=n[i]\n",
        "\n",
        "print(s+int(s1))\n",
        "print(s)\n",
        "print(s1)\n",
        "  "
      ],
      "metadata": {
        "colab": {
          "base_uri": "https://localhost:8080/"
        },
        "id": "2qJvS2vQICYD",
        "outputId": "79347b71-65d5-4a4d-ee2d-052405bad43d"
      },
      "execution_count": null,
      "outputs": [
        {
          "output_type": "stream",
          "name": "stdout",
          "text": [
            "1,2,3,4,5,6,7,8\n",
            "5688\n",
            "10\n",
            "5678\n"
          ]
        }
      ]
    },
    {
      "cell_type": "code",
      "source": [
        "n=input().split(',')\n",
        "\n",
        "for i in n:\n",
        "  m,l=i.split(':')\n",
        "  s=0\n",
        "  for i in l:\n",
        "    s+=int(i)**2\n",
        "  \n",
        "  if(s%2==0):\n",
        "    print(m[-2:]+m[0:-2])\n",
        "\n",
        "  else:\n",
        "    print(m[1:]+m[0])\n",
        "\n"
      ],
      "metadata": {
        "colab": {
          "base_uri": "https://localhost:8080/"
        },
        "id": "X10hZDIkKQoG",
        "outputId": "58db28f1-a1db-43fd-e47e-cb4587d94300"
      },
      "execution_count": null,
      "outputs": [
        {
          "output_type": "stream",
          "name": "stdout",
          "text": [
            "wxyz:1234,acdefgh:217368,abfdc:1542\n",
            "yzwx\n",
            "cdefgha\n",
            "dcabf\n"
          ]
        }
      ]
    },
    {
      "cell_type": "code",
      "source": [
        "wxyz:1234,acdefgh:217368,abfdc:1542"
      ],
      "metadata": {
        "colab": {
          "base_uri": "https://localhost:8080/",
          "height": 130
        },
        "id": "M2E82hk6SKIK",
        "outputId": "8ca9fc95-c162-4369-c29a-eb31bef69a1d"
      },
      "execution_count": null,
      "outputs": [
        {
          "output_type": "error",
          "ename": "SyntaxError",
          "evalue": "ignored",
          "traceback": [
            "\u001b[0;36m  File \u001b[0;32m\"<ipython-input-59-a78ef7a52749>\"\u001b[0;36m, line \u001b[0;32m1\u001b[0m\n\u001b[0;31m    wxyz:1234,acdefgh:217368,abfdc:1542\u001b[0m\n\u001b[0m             ^\u001b[0m\n\u001b[0;31mSyntaxError\u001b[0m\u001b[0;31m:\u001b[0m invalid syntax\n"
          ]
        }
      ]
    },
    {
      "cell_type": "code",
      "source": [
        "n=input()\n",
        "d={}\n",
        "for i in n:\n",
        "  if i in d:\n",
        "    d[i]+=1\n",
        "  else:\n",
        "    d[i]=1\n",
        "\n",
        "d"
      ],
      "metadata": {
        "colab": {
          "base_uri": "https://localhost:8080/"
        },
        "id": "rR9Gtz2fS-oT",
        "outputId": "1638a401-7b38-4bf7-fd90-04c3d6e27b6c"
      },
      "execution_count": null,
      "outputs": [
        {
          "name": "stdout",
          "output_type": "stream",
          "text": [
            "https://colab.research.google.com/drive/1IrYiIeE2HWUwgfN7HEvukHoxAtanIHYR#scrollTo=LANBBcZ_UWmc\n"
          ]
        },
        {
          "output_type": "execute_result",
          "data": {
            "text/plain": [
              "{'h': 2,\n",
              " 't': 3,\n",
              " 'p': 1,\n",
              " 's': 3,\n",
              " ':': 1,\n",
              " '/': 4,\n",
              " 'c': 6,\n",
              " 'o': 7,\n",
              " 'l': 4,\n",
              " 'a': 3,\n",
              " 'b': 1,\n",
              " '.': 3,\n",
              " 'r': 5,\n",
              " 'e': 5,\n",
              " 'g': 3,\n",
              " 'm': 2,\n",
              " 'd': 1,\n",
              " 'i': 2,\n",
              " 'v': 2,\n",
              " '1': 1,\n",
              " 'I': 3,\n",
              " 'Y': 2,\n",
              " 'E': 2,\n",
              " '2': 1,\n",
              " 'H': 4,\n",
              " 'W': 2,\n",
              " 'U': 2,\n",
              " 'w': 1,\n",
              " 'f': 1,\n",
              " 'N': 2,\n",
              " '7': 1,\n",
              " 'u': 1,\n",
              " 'k': 1,\n",
              " 'x': 1,\n",
              " 'A': 2,\n",
              " 'n': 1,\n",
              " 'R': 1,\n",
              " '#': 1,\n",
              " 'T': 1,\n",
              " '=': 1,\n",
              " 'L': 1,\n",
              " 'B': 2,\n",
              " 'Z': 1,\n",
              " '_': 1}"
            ]
          },
          "metadata": {},
          "execution_count": 66
        }
      ]
    },
    {
      "cell_type": "code",
      "source": [
        "n=input()\n",
        "if len(n)<2:\n",
        "  print('empty string')\n",
        "elif len(n)==2:\n",
        "  print(2*n)\n",
        "\n",
        "else:\n",
        "  \n",
        "    print(n[:2]+n[-2:])"
      ],
      "metadata": {
        "colab": {
          "base_uri": "https://localhost:8080/"
        },
        "id": "LANBBcZ_UWmc",
        "outputId": "338b8569-afc0-4bbb-8d61-fbf9e9bb79fe"
      },
      "execution_count": null,
      "outputs": [
        {
          "output_type": "stream",
          "name": "stdout",
          "text": [
            "programming\n",
            "prng\n"
          ]
        }
      ]
    },
    {
      "cell_type": "code",
      "source": [
        "n=input()\n",
        "l=n[1:].replace('g','@')\n",
        "s=n[0]+l"
      ],
      "metadata": {
        "colab": {
          "base_uri": "https://localhost:8080/"
        },
        "id": "uttPq0uJVBq8",
        "outputId": "cfd9ef5d-94b6-4a7b-a421-9bd99ccf6717"
      },
      "execution_count": null,
      "outputs": [
        {
          "name": "stdout",
          "output_type": "stream",
          "text": [
            "gangamstyilegaganam\n"
          ]
        }
      ]
    },
    {
      "cell_type": "code",
      "source": [
        "s"
      ],
      "metadata": {
        "colab": {
          "base_uri": "https://localhost:8080/",
          "height": 35
        },
        "id": "e0Z_q6VPYxE8",
        "outputId": "66a14e35-cd05-4128-cdf2-4e7725a5a413"
      },
      "execution_count": null,
      "outputs": [
        {
          "output_type": "execute_result",
          "data": {
            "text/plain": [
              "'gan@amstyile@a@anam'"
            ],
            "application/vnd.google.colaboratory.intrinsic+json": {
              "type": "string"
            }
          },
          "metadata": {},
          "execution_count": 75
        }
      ]
    },
    {
      "cell_type": "code",
      "source": [
        "c=input()\n",
        "s=input()\n",
        "n=int(input())\n",
        "d=''\n",
        "for i,l in enumerate(s):\n",
        "  if (i%n==0 and i!=0):\n",
        "    d+=c\n",
        "  else:\n",
        "    d=d+l\n",
        "\n",
        "n"
      ],
      "metadata": {
        "colab": {
          "base_uri": "https://localhost:8080/"
        },
        "id": "EHJIoGufY5Z8",
        "outputId": "4d62a04c-34c8-435e-c4a2-e18bcdde38dd"
      },
      "execution_count": null,
      "outputs": [
        {
          "name": "stdout",
          "output_type": "stream",
          "text": [
            "@\n",
            "python programming\n",
            "3\n"
          ]
        },
        {
          "output_type": "execute_result",
          "data": {
            "text/plain": [
              "3"
            ]
          },
          "metadata": {},
          "execution_count": 90
        }
      ]
    },
    {
      "cell_type": "code",
      "source": [
        "d"
      ],
      "metadata": {
        "colab": {
          "base_uri": "https://localhost:8080/",
          "height": 35
        },
        "id": "tlCGNIzGZXwy",
        "outputId": "30da102b-a798-4212-8b4d-4b149418fa18"
      },
      "execution_count": null,
      "outputs": [
        {
          "output_type": "execute_result",
          "data": {
            "text/plain": [
              "'pyt@on@pr@gr@mm@ng'"
            ],
            "application/vnd.google.colaboratory.intrinsic+json": {
              "type": "string"
            }
          },
          "metadata": {},
          "execution_count": 91
        }
      ]
    },
    {
      "cell_type": "code",
      "source": [
        "n=input().split()\n",
        "k=['toll','loudey']\n",
        "d={}\n",
        "for i in n:\n",
        "  if i in k:\n",
        "    s=n.index(i)\n",
        "    d[i]=[s,s+len(i)-1]\n",
        "d"
      ],
      "metadata": {
        "colab": {
          "base_uri": "https://localhost:8080/"
        },
        "id": "lbjXwRUgbfHF",
        "outputId": "573d119a-b9a1-4e09-8303-339ce44b06c4"
      },
      "execution_count": null,
      "outputs": [
        {
          "name": "stdout",
          "output_type": "stream",
          "text": [
            " n=input().split() k=['t','l'] d={} for i in n:   if i in k:     s=n.index(i)     d[i]=[i,s+len(i)-1] d toothpaste gate loudey toll ghj l \n"
          ]
        },
        {
          "output_type": "execute_result",
          "data": {
            "text/plain": [
              "{'loudey': [16, 21], 'toll': [17, 20]}"
            ]
          },
          "metadata": {},
          "execution_count": 96
        }
      ]
    },
    {
      "cell_type": "code",
      "source": [
        "n=input().split()\n",
        "f={}\n",
        "for i in n:\n",
        "  c=0\n",
        "  for j in i:\n",
        "    c+=1\n",
        "  f[i]=c"
      ],
      "metadata": {
        "colab": {
          "base_uri": "https://localhost:8080/"
        },
        "id": "NHu7vUp6dIX6",
        "outputId": "c2c366ef-b927-4692-db35-ec3961ca3f79"
      },
      "execution_count": null,
      "outputs": [
        {
          "name": "stdout",
          "output_type": "stream",
          "text": [
            "mango papapaya apple fruit\n"
          ]
        }
      ]
    },
    {
      "cell_type": "code",
      "source": [
        "f"
      ],
      "metadata": {
        "colab": {
          "base_uri": "https://localhost:8080/"
        },
        "id": "FYTpTOW-eIFn",
        "outputId": "31092d08-41d0-46f1-b738-806ad5d21e7b"
      },
      "execution_count": null,
      "outputs": [
        {
          "output_type": "execute_result",
          "data": {
            "text/plain": [
              "{'mango': 5, 'papapaya': 8, 'apple': 5, 'fruit': 5}"
            ]
          },
          "metadata": {},
          "execution_count": 103
        }
      ]
    },
    {
      "cell_type": "code",
      "source": [
        "n=input()\n",
        "c=input()\n",
        "d=[]\n",
        "for m,l in enumerate(n):\n",
        "  if l==c:\n",
        "    d.append(m)"
      ],
      "metadata": {
        "colab": {
          "base_uri": "https://localhost:8080/"
        },
        "id": "Lf2CFx3NeWFi",
        "outputId": "c10e6828-55bb-49e8-bb7e-f31752651165"
      },
      "execution_count": null,
      "outputs": [
        {
          "name": "stdout",
          "output_type": "stream",
          "text": [
            "welcome to python programming\n",
            "m\n"
          ]
        }
      ]
    },
    {
      "cell_type": "code",
      "source": [
        "d[len(d)//2]"
      ],
      "metadata": {
        "colab": {
          "base_uri": "https://localhost:8080/"
        },
        "id": "nHXdDlCufE9n",
        "outputId": "eec3fa10-2caf-4ee0-f546-3d3f5f420da0"
      },
      "execution_count": null,
      "outputs": [
        {
          "output_type": "execute_result",
          "data": {
            "text/plain": [
              "24"
            ]
          },
          "metadata": {},
          "execution_count": 112
        }
      ]
    },
    {
      "cell_type": "code",
      "source": [
        "n[15]"
      ],
      "metadata": {
        "colab": {
          "base_uri": "https://localhost:8080/",
          "height": 35
        },
        "id": "IzZi6o6rfKsy",
        "outputId": "006ae3a6-191a-430d-82a1-2edc0ad20cd9"
      },
      "execution_count": null,
      "outputs": [
        {
          "output_type": "execute_result",
          "data": {
            "text/plain": [
              "'o'"
            ],
            "application/vnd.google.colaboratory.intrinsic+json": {
              "type": "string"
            }
          },
          "metadata": {},
          "execution_count": 110
        }
      ]
    },
    {
      "cell_type": "code",
      "source": [
        "n=int(input())\n",
        "\n",
        "if(n%2==0 and n in range(2,6) or n>20):\n",
        "  print('not weird')\n",
        "elif (n%2==0 and n in range(6,21)):\n",
        "  print('werid')\n",
        "else:\n",
        "  print('werid odd')\n"
      ],
      "metadata": {
        "colab": {
          "base_uri": "https://localhost:8080/"
        },
        "id": "PkyTf7cGf1-j",
        "outputId": "0b183ffe-9476-48cf-9069-16aa266d9487"
      },
      "execution_count": null,
      "outputs": [
        {
          "output_type": "stream",
          "name": "stdout",
          "text": [
            "1\n",
            "werid odd\n"
          ]
        }
      ]
    },
    {
      "cell_type": "code",
      "source": [
        "s='jagdeeshimprove your neuron connections'\n",
        "v=['a','e','i','o','u']\n",
        "c=0\n",
        "for i in s:\n",
        "  if i in v:\n",
        "    c+=1\n",
        "print('the number of vowels',c)\n"
      ],
      "metadata": {
        "id": "GMoHq5nYjfhe",
        "colab": {
          "base_uri": "https://localhost:8080/"
        },
        "outputId": "d2fe146a-ec25-45e7-f2eb-2a9e77d11de0"
      },
      "execution_count": null,
      "outputs": [
        {
          "output_type": "stream",
          "name": "stdout",
          "text": [
            "the number of vowels 15\n"
          ]
        }
      ]
    },
    {
      "cell_type": "code",
      "source": [
        "#Reverse each word of a string\n",
        "n=input().split(\" \")\n",
        "r=[]\n",
        "for i in n:\n",
        "  r.append(i[::-1])\n"
      ],
      "metadata": {
        "id": "PoeKZoDA4KIa",
        "colab": {
          "base_uri": "https://localhost:8080/"
        },
        "outputId": "21f72ff7-8b88-462a-f78a-9c6f8e171981"
      },
      "execution_count": null,
      "outputs": [
        {
          "name": "stdout",
          "output_type": "stream",
          "text": [
            "my name is jagdeesh\n"
          ]
        }
      ]
    },
    {
      "cell_type": "code",
      "source": [
        "r"
      ],
      "metadata": {
        "colab": {
          "base_uri": "https://localhost:8080/"
        },
        "id": "f-p8o55VbXZC",
        "outputId": "1391411e-cea3-41fc-b7af-123282a7e104"
      },
      "execution_count": null,
      "outputs": [
        {
          "output_type": "execute_result",
          "data": {
            "text/plain": [
              "['ym', 'eman', 'si', 'hseedgaj']"
            ]
          },
          "metadata": {},
          "execution_count": 8
        }
      ]
    },
    {
      "cell_type": "code",
      "source": [
        "while True:\n",
        "  n=input()\n",
        "  print(n,sep=\"  \")\n",
        "  if(len(n)==0):\n",
        "    break"
      ],
      "metadata": {
        "colab": {
          "base_uri": "https://localhost:8080/"
        },
        "id": "Mz6--pSPbpS0",
        "outputId": "3c868835-f104-4901-d1bf-2905b6e0f73a"
      },
      "execution_count": null,
      "outputs": [
        {
          "output_type": "stream",
          "name": "stdout",
          "text": [
            "l1\n",
            "l1\n",
            "l2\n",
            "l2\n",
            "\n",
            "\n"
          ]
        }
      ]
    },
    {
      "cell_type": "code",
      "source": [
        "#Remove items from a list while iterating\n",
        "l=[10,20,30,40,50,60,70,80,90,100]\n",
        "\n",
        "k=[l[i] for i in range(len(l)) if l[i]<50 ]\n",
        "\n",
        "k"
      ],
      "metadata": {
        "colab": {
          "base_uri": "https://localhost:8080/"
        },
        "id": "nFx7WvLTf-VC",
        "outputId": "68843ba0-3beb-44a3-dc79-5cba54d33287"
      },
      "execution_count": null,
      "outputs": [
        {
          "output_type": "execute_result",
          "data": {
            "text/plain": [
              "[10, 20, 30, 40]"
            ]
          },
          "metadata": {},
          "execution_count": 24
        }
      ]
    },
    {
      "cell_type": "code",
      "source": [
        "number_list = [10, 20, 30, 40, 50, 60, 70, 80, 90, 100]\n",
        "for i in range(len(number_list) - 1, -1, -1):\n",
        "    if number_list[i] > 50:\n",
        "        del number_list[i]\n",
        "print(number_list)"
      ],
      "metadata": {
        "colab": {
          "base_uri": "https://localhost:8080/"
        },
        "id": "ualH4q-6hBW5",
        "outputId": "2a6ea821-8794-4a0b-931f-fde5b17480fc"
      },
      "execution_count": null,
      "outputs": [
        {
          "output_type": "stream",
          "name": "stdout",
          "text": [
            "[10, 20, 30, 40, 50]\n"
          ]
        }
      ]
    },
    {
      "cell_type": "code",
      "source": [
        "#Reverse Dictionary mapping\n",
        "a= {'A': 65, 'B': 66, 'C': 67, 'D': 68}\n",
        "\n",
        "b={j:i for i,j in a.items()}\n",
        "b\n",
        "  "
      ],
      "metadata": {
        "colab": {
          "base_uri": "https://localhost:8080/"
        },
        "id": "2UPfJCN0k7Vk",
        "outputId": "ba58ed4c-0ed6-49d7-ec1d-500a00b46b9a"
      },
      "execution_count": null,
      "outputs": [
        {
          "output_type": "execute_result",
          "data": {
            "text/plain": [
              "{65: 'A', 66: 'B', 67: 'C', 68: 'D'}"
            ]
          },
          "metadata": {},
          "execution_count": 29
        }
      ]
    },
    {
      "cell_type": "code",
      "source": [
        "pip install collection\n"
      ],
      "metadata": {
        "colab": {
          "base_uri": "https://localhost:8080/"
        },
        "id": "Qn-5wE00m6Bo",
        "outputId": "9a85090a-deda-49dc-a95f-4e821f6166c1"
      },
      "execution_count": null,
      "outputs": [
        {
          "output_type": "stream",
          "name": "stdout",
          "text": [
            "Looking in indexes: https://pypi.org/simple, https://us-python.pkg.dev/colab-wheels/public/simple/\n",
            "Collecting collection\n",
            "  Downloading collection-0.1.6.tar.gz (5.0 kB)\n",
            "Building wheels for collected packages: collection\n",
            "  Building wheel for collection (setup.py) ... \u001b[?25l\u001b[?25hdone\n",
            "  Created wheel for collection: filename=collection-0.1.6-py3-none-any.whl size=5115 sha256=e34e4bf91ce271d83ceb54c494889dffe518718f69cdd9a3d9a56a3bdc61c330\n",
            "  Stored in directory: /root/.cache/pip/wheels/45/ed/3c/29a1c0600bb908a2e7421dc3a3775cbaed434a71b4ed93a439\n",
            "Successfully built collection\n",
            "Installing collected packages: collection\n",
            "Successfully installed collection-0.1.6\n"
          ]
        }
      ]
    },
    {
      "cell_type": "code",
      "source": [
        "#Display all duplicate items from a list\n",
        "from collections import Counter\n",
        "s= [10, 20, 60, 30, 20, 40, 30, 60, 70, 80]\n",
        "b=Counter(s)\n",
        "\n",
        "for i,j in b.items():\n",
        " if j>1:\n",
        "   print((i,j))\n"
      ],
      "metadata": {
        "colab": {
          "base_uri": "https://localhost:8080/"
        },
        "id": "9W04tjbylojR",
        "outputId": "a6cc727b-58d8-4e3c-a5ff-0d8c16ca7410"
      },
      "execution_count": null,
      "outputs": [
        {
          "output_type": "stream",
          "name": "stdout",
          "text": [
            "(20, 2)\n",
            "(60, 2)\n",
            "(30, 2)\n"
          ]
        }
      ]
    },
    {
      "cell_type": "code",
      "source": [
        "s= [10, 20, 60, 30, 20, 40, 30, 60, 70, 80]\n",
        "d=[]\n",
        "u=[]\n",
        "for i in s:\n",
        "  if i not in u:\n",
        "    u.append(i)\n",
        "  else:\n",
        "    d.append(i)\n",
        "\n",
        "print(d)\n",
        "print(u)"
      ],
      "metadata": {
        "colab": {
          "base_uri": "https://localhost:8080/"
        },
        "id": "BKbRuon3mc7z",
        "outputId": "7957b22d-5d4d-4b99-e7e5-267558fd154a"
      },
      "execution_count": null,
      "outputs": [
        {
          "output_type": "stream",
          "name": "stdout",
          "text": [
            "[20, 30, 60]\n",
            "[10, 20, 60, 30, 40, 70, 80]\n"
          ]
        }
      ]
    },
    {
      "cell_type": "code",
      "source": [
        "#Filter dictionary to contain keys present in the given list"
      ],
      "metadata": {
        "id": "BsBruOn8oIbT"
      },
      "execution_count": null,
      "outputs": []
    },
    {
      "cell_type": "code",
      "source": [
        "# Dictionary\n",
        "d1 = {'A': 65, 'B': 66, 'C': 67, 'D': 68, 'E': 69, 'F': 70}\n",
        "\n",
        "# Filter dict using following keys\n",
        "l1 = ['A', 'C', 'F']\n",
        "\n",
        "d2={i:j for i,j in d1.items() if i in l1}\n",
        "d2"
      ],
      "metadata": {
        "colab": {
          "base_uri": "https://localhost:8080/"
        },
        "id": "kRLj3TfFoYl_",
        "outputId": "f60bece7-e219-4a52-e41a-4e7c474f5155"
      },
      "execution_count": null,
      "outputs": [
        {
          "output_type": "execute_result",
          "data": {
            "text/plain": [
              "{'A': 65, 'C': 67, 'F': 70}"
            ]
          },
          "metadata": {},
          "execution_count": 42
        }
      ]
    },
    {
      "cell_type": "code",
      "source": [
        "#Print the following number pattern\n",
        "n=int(input())\n",
        "x=0\n",
        "for i in range(n,0,-1):\n",
        "  x+=1\n",
        "\n",
        "  for j in range(1,i+1):\n",
        "    print(i,end='')\n",
        "  print('\\n')"
      ],
      "metadata": {
        "colab": {
          "base_uri": "https://localhost:8080/"
        },
        "id": "GbZKsOPEotTu",
        "outputId": "ba7041cc-24eb-4484-b549-56545968b923"
      },
      "execution_count": null,
      "outputs": [
        {
          "output_type": "stream",
          "name": "stdout",
          "text": [
            "9\n",
            "999999999\n",
            "\n",
            "88888888\n",
            "\n",
            "7777777\n",
            "\n",
            "666666\n",
            "\n",
            "55555\n",
            "\n",
            "4444\n",
            "\n",
            "333\n",
            "\n",
            "22\n",
            "\n",
            "1\n",
            "\n"
          ]
        }
      ]
    },
    {
      "cell_type": "code",
      "source": [
        "l= [5, [10, 15, [20, 25, [30, 35], 40], 45], 50]\n",
        "l[1][2][2][1]=3000"
      ],
      "metadata": {
        "id": "EwjkE8jBpKl7"
      },
      "execution_count": null,
      "outputs": []
    },
    {
      "cell_type": "code",
      "source": [
        "l"
      ],
      "metadata": {
        "colab": {
          "base_uri": "https://localhost:8080/"
        },
        "id": "EZOo03BAq_5s",
        "outputId": "fc469a67-b009-4ac5-f916-3c4112ecfdea"
      },
      "execution_count": null,
      "outputs": [
        {
          "output_type": "execute_result",
          "data": {
            "text/plain": [
              "[5, [10, 15, [20, 25, [30, 3000], 40], 45], 50]"
            ]
          },
          "metadata": {},
          "execution_count": 60
        }
      ]
    },
    {
      "cell_type": "code",
      "source": [
        "from datetime import datetime,timedelta\n",
        "n=datetime.now().date()\n",
        "print(n)\n",
        "print(n-timedelta(days=7,hours=12))\n",
        "print(n.strftime('%A %d %B %Y'))\n",
        "print(n.year)"
      ],
      "metadata": {
        "colab": {
          "base_uri": "https://localhost:8080/"
        },
        "id": "-VyEuoV4rA12",
        "outputId": "d88eb881-a835-4802-bc1f-25b9587b425a"
      },
      "execution_count": null,
      "outputs": [
        {
          "output_type": "stream",
          "name": "stdout",
          "text": [
            "2022-10-25\n",
            "2022-10-18\n",
            "Tuesday 25 October 2022\n",
            "2022\n"
          ]
        }
      ]
    },
    {
      "cell_type": "code",
      "source": [
        "from datetime import datetime\n",
        "date_string = \"Feb 25 2020  4:20PM\"\n",
        "datetime_object = datetime.strptime(date_string, '%b %d %Y %I:%M%p')\n",
        "print(datetime_object)\n"
      ],
      "metadata": {
        "colab": {
          "base_uri": "https://localhost:8080/"
        },
        "id": "7eBqMNex4ItX",
        "outputId": "5557c6a5-3f01-4400-9b46-80818cf4e61f"
      },
      "execution_count": null,
      "outputs": [
        {
          "output_type": "stream",
          "name": "stdout",
          "text": [
            "2020-02-25 16:20:00\n"
          ]
        }
      ]
    },
    {
      "cell_type": "code",
      "source": [],
      "metadata": {
        "id": "7frckIqK40kQ"
      },
      "execution_count": null,
      "outputs": []
    }
  ]
}